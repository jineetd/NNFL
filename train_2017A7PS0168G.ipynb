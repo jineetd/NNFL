{
  "nbformat": 4,
  "nbformat_minor": 0,
  "metadata": {
    "colab": {
      "name": "train-2017A7PS0168G.ipynb",
      "provenance": [],
      "machine_shape": "hm",
      "include_colab_link": true
    },
    "kernelspec": {
      "name": "python3",
      "display_name": "Python 3"
    },
    "accelerator": "TPU"
  },
  "cells": [
    {
      "cell_type": "markdown",
      "metadata": {
        "id": "view-in-github",
        "colab_type": "text"
      },
      "source": [
        "<a href=\"https://colab.research.google.com/github/jineetd/NNFL/blob/master/train_2017A7PS0168G.ipynb\" target=\"_parent\"><img src=\"https://colab.research.google.com/assets/colab-badge.svg\" alt=\"Open In Colab\"/></a>"
      ]
    },
    {
      "cell_type": "code",
      "metadata": {
        "id": "0svv7_PkytIa",
        "colab_type": "code",
        "colab": {}
      },
      "source": [
        ""
      ],
      "execution_count": 0,
      "outputs": []
    },
    {
      "cell_type": "code",
      "metadata": {
        "id": "LIKZGsAM14BC",
        "colab_type": "code",
        "outputId": "7a50be3d-205e-4501-b814-8b1c45e1795f",
        "colab": {
          "base_uri": "https://localhost:8080/",
          "height": 124
        }
      },
      "source": [
        "from google.colab import drive\n",
        "drive.mount('/content/drive')"
      ],
      "execution_count": 1,
      "outputs": [
        {
          "output_type": "stream",
          "text": [
            "Go to this URL in a browser: https://accounts.google.com/o/oauth2/auth?client_id=947318989803-6bn6qk8qdgf4n4g3pfee6491hc0brc4i.apps.googleusercontent.com&redirect_uri=urn%3Aietf%3Awg%3Aoauth%3A2.0%3Aoob&scope=email%20https%3A%2F%2Fwww.googleapis.com%2Fauth%2Fdocs.test%20https%3A%2F%2Fwww.googleapis.com%2Fauth%2Fdrive%20https%3A%2F%2Fwww.googleapis.com%2Fauth%2Fdrive.photos.readonly%20https%3A%2F%2Fwww.googleapis.com%2Fauth%2Fpeopleapi.readonly&response_type=code\n",
            "\n",
            "Enter your authorization code:\n",
            "··········\n",
            "Mounted at /content/drive\n"
          ],
          "name": "stdout"
        }
      ]
    },
    {
      "cell_type": "code",
      "metadata": {
        "id": "XjSADgac2vFT",
        "colab_type": "code",
        "colab": {}
      },
      "source": [
        "! unzip -uq \"/content/drive/My Drive/nnfl-assignment-i.zip\" -d \"/content/assg1\""
      ],
      "execution_count": 0,
      "outputs": []
    },
    {
      "cell_type": "code",
      "metadata": {
        "id": "HraMOrJP5uzy",
        "colab_type": "code",
        "colab": {}
      },
      "source": [
        "import numpy as np\n",
        "import matplotlib.pyplot as plt\n",
        "import pandas as pd\n",
        "\n",
        "import warnings\n",
        "warnings.filterwarnings('ignore')\n",
        "\n",
        "#from keras.datasets import mnist\n",
        "from keras.utils import np_utils\n",
        "from keras.models import Sequential,Model\n",
        "from keras.layers import Conv2D, MaxPool2D, Flatten, Dense, Dropout,Input,MaxPooling2D\n",
        "\n",
        "\n",
        "import os\n",
        "import cv2"
      ],
      "execution_count": 0,
      "outputs": []
    },
    {
      "cell_type": "code",
      "metadata": {
        "id": "XFrY-Pi55-E0",
        "colab_type": "code",
        "colab": {}
      },
      "source": [
        "from skimage.io import imread_collection\n",
        "\n",
        "#your path \n",
        "col_dir = 'assg1/final_train/final_train/*.jpg'\n",
        "\n",
        "#creating a collection with the available images\n",
        "X_train = imread_collection(col_dir)\n",
        "\n"
      ],
      "execution_count": 0,
      "outputs": []
    },
    {
      "cell_type": "code",
      "metadata": {
        "id": "3Mxt6UO3L9da",
        "colab_type": "code",
        "colab": {
          "base_uri": "https://localhost:8080/",
          "height": 286
        },
        "outputId": "4b6f3f3a-3991-4050-adbf-9f00d49f6fb3"
      },
      "source": [
        "height = 64\n",
        "width = 64\n",
        "dim = (width, height)\n",
        "x_train = []\n",
        "for i in range(len(X_train)):\n",
        "  res = cv2.resize(X_train[i], dim, interpolation=cv2.INTER_LINEAR)\n",
        "  x_train.append(res)\n",
        "plt.imshow(x_train[0])"
      ],
      "execution_count": 30,
      "outputs": [
        {
          "output_type": "execute_result",
          "data": {
            "text/plain": [
              "<matplotlib.image.AxesImage at 0x7feb7b4063c8>"
            ]
          },
          "metadata": {
            "tags": []
          },
          "execution_count": 30
        },
        {
          "output_type": "display_data",
          "data": {
            "image/png": "[encoded data removed]",
            "text/plain": [
              "<Figure size 432x288 with 1 Axes>"
            ]
          },
          "metadata": {
            "tags": []
          }
        }
      ]
    },
    {
      "cell_type": "code",
      "metadata": {
        "id": "N1UF1wxP8lnw",
        "colab_type": "code",
        "colab": {
          "base_uri": "https://localhost:8080/",
          "height": 34
        },
        "outputId": "5bae347a-ca4b-4288-daff-2ba31e137236"
      },
      "source": [
        "#print(X_train[0].shape)\n",
        "#type(X_train)\n",
        "x_train=np.array(x_train).astype('float32')\n",
        "x_train=x_train/255.\n",
        "type(x_train)"
      ],
      "execution_count": 31,
      "outputs": [
        {
          "output_type": "execute_result",
          "data": {
            "text/plain": [
              "numpy.ndarray"
            ]
          },
          "metadata": {
            "tags": []
          },
          "execution_count": 31
        }
      ]
    },
    {
      "cell_type": "code",
      "metadata": {
        "id": "qL4swboM67ov",
        "colab_type": "code",
        "colab": {
          "base_uri": "https://localhost:8080/",
          "height": 34
        },
        "outputId": "f5bfe746-4483-4ea4-efac-fd24b5d6512f"
      },
      "source": [
        "df=pd.read_csv('assg1/train_mappings_final.csv')\n",
        "#print(df.columns.values)\n",
        "y_train=np.array(df['train_mappings'])\n",
        "#y_train=y_train.reshape(-1,1)\n",
        "y_train=np.delete(y_train,0).astype('int32')\n",
        "\n",
        "print(len(y_train))\n",
        "#print(x_train.shape)"
      ],
      "execution_count": 32,
      "outputs": [
        {
          "output_type": "stream",
          "text": [
            "16575\n"
          ],
          "name": "stdout"
        }
      ]
    },
    {
      "cell_type": "code",
      "metadata": {
        "id": "fnd9D5rCNQzz",
        "colab_type": "code",
        "colab": {}
      },
      "source": [
        "from sklearn.model_selection import train_test_split\n",
        "x_train, x_test, y_train, y_test = train_test_split(x_train, y_train, test_size = 0.2, random_state = 0)"
      ],
      "execution_count": 0,
      "outputs": []
    },
    {
      "cell_type": "code",
      "metadata": {
        "id": "YAnmgey3E0Fr",
        "colab_type": "code",
        "colab": {
          "base_uri": "https://localhost:8080/",
          "height": 419
        },
        "outputId": "e944cab3-e850-4f17-965e-b57ce1aeab1b"
      },
      "source": [
        "#1)\n",
        "#model = Sequential()\n",
        "\n",
        "#model.add(Conv2D(64, (5, 5), input_shape=(64, 64, 3), activation='relu'))\n",
        "#model.add(MaxPool2D(pool_size=(2, 2)))\n",
        "#model.add(Dropout(0.2))\n",
        "#model.add(Flatten())\n",
        "#model.add(Dense(128, activation='relu'))\n",
        "#model.add(Dense(1, activation='sigmoid'))\n",
        "\n",
        "#model.compile(loss='categorical_crossentropy', optimizer='adam', metrics=['accuracy'])\n",
        "\n",
        "#2)\n",
        "#model = Sequential()\n",
        "\n",
        "#model.add(Conv2D(64, (3, 3), input_shape=(64,64,3)))\n",
        "#model.add(Activation(\"relu\"))\n",
        "#model.add(MaxPooling2D(pool_size=(2, 2)))\n",
        "\n",
        "#model.add(Conv2D(64, (3, 3)))\n",
        "#model.add(Activation(\"relu\"))\n",
        "#model.add(MaxPooling2D(pool_size=(2, 2)))\n",
        "\n",
        "#model.add(Flatten())\n",
        "#model.add(Dense(16))\n",
        "#model.add(Activation(\"relu\"))\n",
        "#model.add(Dropout(0.5))\n",
        "#model.add(Dense(1))\n",
        "#model.add(Activation(\"sigmoid\"))\n",
        "\n",
        "\n",
        "#3)\n",
        "#from keras.layers import Activation\n",
        "model = Sequential()\n",
        "\n",
        "model.add(Conv2D(64, (3, 3), input_shape=(64,64,3)))\n",
        "model.add(Activation('relu'))\n",
        "model.add(MaxPooling2D(pool_size=(2, 2)))\n",
        "\n",
        "model.add(Conv2D(64, (3, 3)))\n",
        "model.add(Activation('relu'))\n",
        "model.add(MaxPooling2D(pool_size=(2, 2)))\n",
        "\n",
        "model.add(Conv2D(128, (3, 3)))\n",
        "model.add(Activation('relu'))\n",
        "model.add(MaxPooling2D(pool_size=(2, 2)))\n",
        "model.add(Flatten())\n",
        "model.add(Dense(128))\n",
        "model.add(Activation('relu'))\n",
        "model.add(Dropout(0.5))\n",
        "model.add(Dense(1))\n",
        "model.add(Activation('sigmoid'))\n",
        "\n",
        "\n",
        "model.compile(loss='binary_crossentropy', optimizer='adam', metrics=['accuracy'])\n",
        "model.fit(x_train, y_train, validation_data=(x_test, y_test), epochs=10, batch_size=40)\n"
      ],
      "execution_count": 35,
      "outputs": [
        {
          "output_type": "stream",
          "text": [
            "Train on 10608 samples, validate on 2652 samples\n",
            "Epoch 1/10\n",
            "10608/10608 [==============================] - 60s 6ms/step - loss: 0.2419 - acc: 0.9093 - val_loss: 0.1388 - val_acc: 0.9548\n",
            "Epoch 2/10\n",
            "10608/10608 [==============================] - 59s 6ms/step - loss: 0.1534 - acc: 0.9496 - val_loss: 0.1603 - val_acc: 0.9506\n",
            "Epoch 3/10\n",
            "10608/10608 [==============================] - 58s 6ms/step - loss: 0.1305 - acc: 0.9568 - val_loss: 0.1629 - val_acc: 0.9359\n",
            "Epoch 4/10\n",
            "10608/10608 [==============================] - 59s 6ms/step - loss: 0.1249 - acc: 0.9574 - val_loss: 0.1103 - val_acc: 0.9634\n",
            "Epoch 5/10\n",
            "10608/10608 [==============================] - 59s 6ms/step - loss: 0.1103 - acc: 0.9638 - val_loss: 0.1061 - val_acc: 0.9653\n",
            "Epoch 6/10\n",
            "10608/10608 [==============================] - 58s 6ms/step - loss: 0.1124 - acc: 0.9613 - val_loss: 0.0910 - val_acc: 0.9691\n",
            "Epoch 7/10\n",
            "10608/10608 [==============================] - 58s 5ms/step - loss: 0.0909 - acc: 0.9696 - val_loss: 0.1457 - val_acc: 0.9480\n",
            "Epoch 8/10\n",
            "10608/10608 [==============================] - 58s 5ms/step - loss: 0.0837 - acc: 0.9722 - val_loss: 0.1150 - val_acc: 0.9642\n",
            "Epoch 9/10\n",
            "10608/10608 [==============================] - 58s 5ms/step - loss: 0.0736 - acc: 0.9744 - val_loss: 0.1069 - val_acc: 0.9691\n",
            "Epoch 10/10\n",
            "10608/10608 [==============================] - 58s 5ms/step - loss: 0.0629 - acc: 0.9771 - val_loss: 0.0937 - val_acc: 0.9695\n"
          ],
          "name": "stdout"
        },
        {
          "output_type": "execute_result",
          "data": {
            "text/plain": [
              "<keras.callbacks.History at 0x7feb7b2cd198>"
            ]
          },
          "metadata": {
            "tags": []
          },
          "execution_count": 35
        }
      ]
    },
    {
      "cell_type": "code",
      "metadata": {
        "id": "sLDOx7doSFX1",
        "colab_type": "code",
        "colab": {
          "base_uri": "https://localhost:8080/",
          "height": 286
        },
        "outputId": "38e03efb-5b7e-4cc3-a3dd-0288747f72f3"
      },
      "source": [
        "from skimage.io import imread_collection\n",
        "\n",
        "#your path \n",
        "col_dir = 'assg1/final_test/final_test/*.jpg'\n",
        "\n",
        "#creating a collection with the available images\n",
        "X_test = imread_collection(col_dir)\n",
        "height = 64\n",
        "width = 64\n",
        "dim = (width, height)\n",
        "x_test = []\n",
        "for i in range(len(X_test)):\n",
        "  res = cv2.resize(X_test[i], dim, interpolation=cv2.INTER_LINEAR)\n",
        "  x_test.append(res)\n",
        "plt.imshow(x_test[0])"
      ],
      "execution_count": 36,
      "outputs": [
        {
          "output_type": "execute_result",
          "data": {
            "text/plain": [
              "<matplotlib.image.AxesImage at 0x7feb7cfbe208>"
            ]
          },
          "metadata": {
            "tags": []
          },
          "execution_count": 36
        },
        {
          "output_type": "display_data",
          "data": {
            "image/png": "[encoded data removed]",
            "text/plain": [
              "<Figure size 432x288 with 1 Axes>"
            ]
          },
          "metadata": {
            "tags": []
          }
        }
      ]
    },
    {
      "cell_type": "code",
      "metadata": {
        "id": "PnWOFWxoTggh",
        "colab_type": "code",
        "colab": {
          "base_uri": "https://localhost:8080/",
          "height": 34
        },
        "outputId": "1ef2a280-05b9-4fec-d501-80952fa568b0"
      },
      "source": [
        "x_test=np.array(x_test)\n",
        "print(x_test.shape)"
      ],
      "execution_count": 37,
      "outputs": [
        {
          "output_type": "stream",
          "text": [
            "(5125, 64, 64, 3)\n"
          ],
          "name": "stdout"
        }
      ]
    },
    {
      "cell_type": "code",
      "metadata": {
        "id": "_Kv2HjYPT0_X",
        "colab_type": "code",
        "colab": {}
      },
      "source": [
        "y_pred=model.predict_classes(x_test)"
      ],
      "execution_count": 0,
      "outputs": []
    },
    {
      "cell_type": "code",
      "metadata": {
        "id": "gtxGANmbUF7f",
        "colab_type": "code",
        "colab": {
          "base_uri": "https://localhost:8080/",
          "height": 139
        },
        "outputId": "f8266037-cacd-4083-bf2e-0e06a4c27f06"
      },
      "source": [
        "df1=pd.read_csv('assg1/test_data_file_id.csv')\n",
        "print(df1.columns.values)\n",
        "df1['Category']=y_pred\n",
        "print(df1.head())"
      ],
      "execution_count": 40,
      "outputs": [
        {
          "output_type": "stream",
          "text": [
            "['Id' 'File']\n",
            "   Id                     File  Category\n",
            "0   2  ./data/final_test/2.jpg         1\n",
            "1   3  ./data/final_test/3.jpg         0\n",
            "2   4  ./data/final_test/4.jpg         0\n",
            "3   5  ./data/final_test/5.jpg         1\n",
            "4   6  ./data/final_test/6.jpg         0\n"
          ],
          "name": "stdout"
        }
      ]
    },
    {
      "cell_type": "code",
      "metadata": {
        "id": "s7k3s-FUWWzA",
        "colab_type": "code",
        "colab": {}
      },
      "source": [
        "df1.to_csv('jineet6_output.csv',index=False)"
      ],
      "execution_count": 0,
      "outputs": []
    }
  ]
}